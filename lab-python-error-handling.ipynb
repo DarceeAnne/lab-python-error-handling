{
 "cells": [
  {
   "cell_type": "markdown",
   "id": "25d7736c-ba17-4aff-b6bb-66eba20fbf4e",
   "metadata": {},
   "source": [
    "# Lab | Error Handling"
   ]
  },
  {
   "cell_type": "markdown",
   "id": "bc99b386-7508-47a0-bcdb-d969deaf6c8b",
   "metadata": {},
   "source": [
    "## Exercise: Error Handling for Managing Customer Orders\n",
    "\n",
    "The implementation of your code for managing customer orders assumes that the user will always enter a valid input. \n",
    "\n",
    "For example, we could modify the `initialize_inventory` function to include error handling.\n",
    "   - If the user enters an invalid quantity (e.g., a negative value or a non-numeric value), display an error message and ask them to re-enter the quantity for that product.\n",
    "   - Use a try-except block to handle the error and continue prompting the user until a valid quantity is entered.\n",
    "\n",
    "```python\n",
    "# Step 1: Define the function for initializing the inventory with error handling\n",
    "def initialize_inventory(products):\n",
    "    inventory = {}\n",
    "    for product in products:\n",
    "        valid_quantity = False\n",
    "        while not valid_quantity:\n",
    "            try:\n",
    "                quantity = int(input(f\"Enter the quantity of {product}s available: \"))\n",
    "                if quantity < 0:\n",
    "                    raise ValueError(\"Invalid quantity! Please enter a non-negative value.\")\n",
    "                valid_quantity = True\n",
    "            except ValueError as error:\n",
    "                print(f\"Error: {error}\")\n",
    "        inventory[product] = quantity\n",
    "    return inventory\n",
    "\n",
    "# Or, in another way:\n",
    "\n",
    "def initialize_inventory(products):\n",
    "    inventory = {}\n",
    "    for product in products:\n",
    "        valid_input = False\n",
    "        while not valid_input:\n",
    "            try:\n",
    "                quantity = int(input(f\"Enter the quantity of {product}s available: \"))\n",
    "                if quantity >= 0:\n",
    "                    inventory[product] = quantity\n",
    "                    valid_input = True\n",
    "                else:\n",
    "                    print(\"Quantity cannot be negative. Please enter a valid quantity.\")\n",
    "            except ValueError:\n",
    "                print(\"Invalid input. Please enter a valid quantity.\")\n",
    "    return inventory\n",
    "```\n",
    "\n",
    "Let's enhance your code by implementing error handling to handle invalid inputs.\n",
    "\n",
    "Follow the steps below to complete the exercise:\n",
    "\n",
    "2. Modify the `calculate_total_price` function to include error handling.\n",
    "   - If the user enters an invalid price (e.g., a negative value or a non-numeric value), display an error message and ask them to re-enter the price for that product.\n",
    "   - Use a try-except block to handle the error and continue prompting the user until a valid price is entered.\n",
    "\n",
    "3. Modify the `get_customer_orders` function to include error handling.\n",
    "   - If the user enters an invalid number of orders (e.g., a negative value or a non-numeric value), display an error message and ask them to re-enter the number of orders.\n",
    "   - If the user enters an invalid product name (e.g., a product name that is not in the inventory), or that doesn't have stock available, display an error message and ask them to re-enter the product name. *Hint: you will need to pass inventory as a parameter*\n",
    "   - Use a try-except block to handle the error and continue prompting the user until a valid product name is entered.\n",
    "\n",
    "4. Test your code by running the program and deliberately entering invalid quantities and product names. Make sure the error handling mechanism works as expected.\n"
   ]
  },
  {
   "cell_type": "code",
   "execution_count": 2,
   "id": "6128032e",
   "metadata": {},
   "outputs": [
    {
     "name": "stdout",
     "output_type": "stream",
     "text": [
      "Current inventory: {'t-shirt': 20, 'mug': 20, 'hat': 20, 'book': 20, 'keychain': 20}\n"
     ]
    }
   ],
   "source": [
    "def initialize_inventory(products):\n",
    "    inventory = {product: int(input(f\"Enter the quantity of {product}s available: \")) for product in products}\n",
    "    return inventory\n",
    "        \n",
    "products=[\"t-shirt\", \"mug\", \"hat\", \"book\", \"keychain\"]\n",
    "inventory = initialize_inventory(products)\n",
    "print(\"Current inventory:\", inventory)"
   ]
  },
  {
   "cell_type": "code",
   "execution_count": 5,
   "id": "e951df61",
   "metadata": {},
   "outputs": [
    {
     "name": "stdout",
     "output_type": "stream",
     "text": [
      "Invalid input. Please enter a valid product name (t-shirt/mug/hat/book/keychain).\n",
      "Invalid input. Quantity must be a non-negative number.\n",
      "Invalid input. Please enter a valid product name (t-shirt/mug/hat/book/keychain).\n",
      "Invalid input. Please enter a valid product name (t-shirt/mug/hat/book/keychain).\n",
      "Invalid input. Quantity must be a non-negative number.\n",
      "Your order: ['mug']\n"
     ]
    }
   ],
   "source": [
    "#Modify the `get_customer_orders` function to include error handling.\n",
    "#If the user enters an invalid number of orders (e.g., a negative value or a non-numeric value), display an error message and ask them to re-enter the number of orders.\n",
    "#If the user enters an invalid product name (e.g., a product name that is not in the inventory), or that doesn't have stock available, display an error message and ask them to re-enter the product name. *Hint: you will need to pass inventory as a parameter*\n",
    "#Use a try-except block to handle the error and continue prompting the user until a valid product name is entered.\n",
    "\n",
    "def get_customer_orders():\n",
    "    items = ['t-shirt', 'mug', 'hat', 'book', 'keychain']\n",
    "    \n",
    "    customer_orders = []\n",
    "    while True:\n",
    "        order = input(f\"Do you want a {'/'.join(items)}? \").strip().lower()\n",
    "        if order == 'done':\n",
    "            break\n",
    "        \n",
    "        if order not in items:\n",
    "            print(\"Invalid input. Please enter a valid product name (t-shirt/mug/hat/book/keychain).\")\n",
    "            continue  # Skip the rest of the loop iteration if the input is invalid\n",
    "            \n",
    "        try:\n",
    "            quantity = int(input(f\"How many {order}s would you like? \"))\n",
    "            if quantity < 0:\n",
    "                print(\"Invalid input. Quantity must be a non-negative number.\")\n",
    "                continue  # Skip the rest of the loop iteration if the quantity is negative\n",
    "                \n",
    "            customer_orders.extend([order] * quantity)\n",
    "        except ValueError:\n",
    "            print(\"Invalid input. Quantity must be a valid integer.\")\n",
    "            \n",
    "        more_orders = input(\"Would you like anything else? (yes/no) \").strip().lower()\n",
    "        if more_orders != 'yes':\n",
    "            break\n",
    "            \n",
    "    return customer_orders\n",
    "\n",
    "customer_orders = get_customer_orders()\n",
    "print(\"Your order:\", customer_orders)"
   ]
  },
  {
   "cell_type": "code",
   "execution_count": 2,
   "id": "c2c83725",
   "metadata": {},
   "outputs": [
    {
     "name": "stdout",
     "output_type": "stream",
     "text": [
      "Invalid input. Please enter a numerical value.\n",
      "Invalid input. Price must be a non-negative number.\n",
      "Total cost of order: $ 6.0\n"
     ]
    }
   ],
   "source": [
    "#Modify the `calculate_total_price` function to include error handling.\n",
    "#If the user enters an invalid price (e.g., a negative value or a non-numeric value), \n",
    "#display an error message and ask them to re-enter the price for that product.\n",
    "#Use a try-except block to handle the error and continue prompting the user until a valid price is entered.\n",
    "\n",
    "def calculate_order_price(customer_orders):\n",
    "    order_price = {}\n",
    "    for item in set(customer_orders):\n",
    "        while True:\n",
    "            try:\n",
    "                price = float(input(f\"Enter the cost of a {item}: \"))\n",
    "                if price < 0:\n",
    "                    raise ValueError(\"Price must be a non-negative number.\")\n",
    "                order_price[item] = price\n",
    "                break  # Break out of the loop if input is valid\n",
    "            except ValueError as e:\n",
    "                if \"could not convert string to float\" in str(e):\n",
    "                    print(\"Invalid input. Please enter a numerical value.\")\n",
    "                else:\n",
    "                    print(\"Invalid input. Price must be a non-negative number.\")\n",
    "    return sum(order_price.values())\n",
    "\n",
    "customer_orders = ['item1', 'item2']  # Example customer orders\n",
    "cost = calculate_order_price(customer_orders)\n",
    "print(\"Total cost of order: $\", cost)"
   ]
  },
  {
   "cell_type": "code",
   "execution_count": 5,
   "id": "3a2414cc",
   "metadata": {},
   "outputs": [
    {
     "name": "stdout",
     "output_type": "stream",
     "text": [
      "Updated Inventory:\n",
      "{'t-shirt': 20, 'mug': 20, 'hat': 20, 'book': 20, 'keychain': 20}\n"
     ]
    }
   ],
   "source": [
    "#Modify the update_inventory function to remove the product from the inventory if its quantity becomes zero \n",
    "#after fulfilling the customer orders. Use comprehension to filter out the products with a quantity of zero from the inventory.\n",
    "\n",
    "def update_inventory(customer_orders, inventory):\n",
    "    updated_inventory = {item: count for item, count in inventory.items() if count - customer_orders.count(item) > 0}\n",
    "    return updated_inventory\n",
    "\n",
    "updated_inventory = update_inventory(customer_orders, inventory)\n",
    "print(\"Updated Inventory:\")\n",
    "print(updated_inventory)\n",
    "\n",
    "#This is cool but it's a shame the calculate_order_price function assumes there is only one of each item (max) ordered."
   ]
  },
  {
   "cell_type": "code",
   "execution_count": 6,
   "id": "f1acca67",
   "metadata": {},
   "outputs": [],
   "source": [
    "def calculate_order_statistics(customer_orders,products):\n",
    "    nb_ordered=len(customer_orders)\n",
    "    nb_ordered_unique = len(set(customer_orders))\n",
    "    nb_products=len(products)\n",
    "    percentage_prod_ordered= round(nb_ordered_unique/nb_products*100)\n",
    "    return nb_ordered, nb_products, percentage_prod_ordered, nb_ordered_unique\n",
    "\n",
    "order_statistics = calculate_order_statistics(customer_orders, products)"
   ]
  }
 ],
 "metadata": {
  "kernelspec": {
   "display_name": "Python 3 (ipykernel)",
   "language": "python",
   "name": "python3"
  },
  "language_info": {
   "codemirror_mode": {
    "name": "ipython",
    "version": 3
   },
   "file_extension": ".py",
   "mimetype": "text/x-python",
   "name": "python",
   "nbconvert_exporter": "python",
   "pygments_lexer": "ipython3",
   "version": "3.11.5"
  }
 },
 "nbformat": 4,
 "nbformat_minor": 5
}
